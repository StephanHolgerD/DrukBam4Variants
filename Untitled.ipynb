{
 "cells": [
  {
   "cell_type": "code",
   "execution_count": 1,
   "id": "e48912b8",
   "metadata": {},
   "outputs": [],
   "source": [
    "from variantfinder.ReadFiles.VcfReader import ReadVcfFile\n",
    "from variantfinder.ParseAlignments.VariantCounter import VariantCounter_cls\n",
    "from collections import Counter\n",
    "import pysam"
   ]
  },
  {
   "cell_type": "code",
   "execution_count": 2,
   "id": "b252c75a",
   "metadata": {},
   "outputs": [],
   "source": [
    "indexBam = '../../00_data/IND_007_VAR_007_TRPV4/Index/Mosaik_K96_aligned_Hg19_7_IND_007_TRPV4.sorted.bam'\n",
    "indexVariant = '../testIND007.vcf'"
   ]
  },
  {
   "cell_type": "code",
   "execution_count": 3,
   "id": "489a65b0",
   "metadata": {},
   "outputs": [
    {
     "name": "stdout",
     "output_type": "stream",
     "text": [
      "....start looking for variant supporting aligments in ../../00_data/IND_007_VAR_007_TRPV4/Index/Mosaik_K96_aligned_Hg19_7_IND_007_TRPV4.sorted.bam\n"
     ]
    },
    {
     "name": "stderr",
     "output_type": "stream",
     "text": [
      "/home/stephano/miniconda3/envs/Jupyter/lib/python3.10/site-packages/numpy/core/fromnumeric.py:43: VisibleDeprecationWarning: Creating an ndarray from ragged nested sequences (which is a list-or-tuple of lists-or-tuples-or ndarrays with different lengths or shapes) is deprecated. If you meant to do this, you must specify 'dtype=object' when creating the ndarray.\n",
      "  result = getattr(asarray(obj), method)(*args, **kwds)\n",
      "  0%|                                                                                                                                                                                                                   | 0/1 [00:00<?, ?it/s]"
     ]
    },
    {
     "name": "stdout",
     "output_type": "stream",
     "text": [
      "0\n"
     ]
    },
    {
     "name": "stderr",
     "output_type": "stream",
     "text": [
      "100%|███████████████████████████████████████████████████████████████████████████████████████████████████████████████████████████████████████████████████████████████████████████████████████████████████████████| 1/1 [00:02<00:00,  2.09s/it]\n"
     ]
    }
   ],
   "source": [
    "x = ReadVcfFile('../../00_ref/Homo_sapiens.GRCh37.dna.primary_assembly.fa'\n",
    "                ,indexBam\n",
    "                ,indexVariant)\n",
    "VC_object = VariantCounter_cls(x)"
   ]
  },
  {
   "cell_type": "code",
   "execution_count": 4,
   "id": "73ba2c27",
   "metadata": {},
   "outputs": [],
   "source": [
    "ReadVariantDct={}\n",
    "VarReads = [x[0] for x in list(list(VC_object.VariantsInAlignments[0][2].values())[0])]\n",
    "for read in  VC_object.VariantsInAlignments[0][-1]:\n",
    "    \n",
    "    if read[-2] in VarReads:\n",
    "        donePositions = set()\n",
    "        doneInsertions = set()\n",
    "        \n",
    "        delInsCounter=0\n",
    "        InsertionD = {x[0][0]:x for x in read[5]}\n",
    "        variants = {}\n",
    "        for n,(RefPos,RefNuc,ReadNuc) in enumerate(zip(read[0],read[1],read[2])):\n",
    "            if n in donePositions:\n",
    "                continue\n",
    "            \n",
    "            onePosBack = n-1\n",
    "            \n",
    "            InsP=n+delInsCounter\n",
    "            if InsP in InsertionD and InsP not in doneInsertions:\n",
    "                l = len(InsertionD[InsP][0])\n",
    "                delInsCounter=delInsCounter+l\n",
    "                doneInsertions.add(InsP)\n",
    "                #RefPos = read[0][InsP]\n",
    "                #RefNuc = read[1][InsP]\n",
    "                ReadNuc = RefNuc + InsertionD[InsP][1]\n",
    "\n",
    "                variants[RefPos]=(RefNuc,ReadNuc)\n",
    "                \n",
    "            elif RefNuc!=ReadNuc:\n",
    "                if ReadNuc=='-':\n",
    "                    delInsCounter=delInsCounter-1\n",
    "                    RefNucNew=read[1][onePosBack]+RefNuc\n",
    "                    for NextP in range(1,1000):\n",
    "                        CheckPosition=n+NextP\n",
    "                        ChecKPositionReadNuc = read[2][CheckPosition]\n",
    "                        ChecKPositionRefNuc = read[1][CheckPosition]\n",
    "                        if ChecKPositionReadNuc=='-':\n",
    "                            delInsCounter=delInsCounter-1\n",
    "                            donePositions.add(CheckPosition)\n",
    "                            RefNucNew=RefNucNew+ChecKPositionRefNuc\n",
    "                        else:\n",
    "                            break\n",
    "                            \n",
    "                    ReadNuc = RefNucNew[0]\n",
    "                    RefNuc = RefNucNew\n",
    "                    RefPos = read[0][onePosBack]\n",
    "                RefPos = RefPos+1\n",
    "                variants[RefPos]=(RefNuc,ReadNuc)\n",
    "        ReadVariantDct[read[-2]]=variants\n",
    "            \n",
    "\n",
    "IndexVars = [(k,v) for k,v in Counter([(k,v) for liste in list(ReadVariantDct.values()) for k,v in liste.items()]).items() if v >2]"
   ]
  },
  {
   "cell_type": "code",
   "execution_count": 5,
   "id": "d4e0ba8d",
   "metadata": {},
   "outputs": [
    {
     "name": "stderr",
     "output_type": "stream",
     "text": [
      "[W::bcf_update_info] INFO/END=0 is smaller than POS at 12:110219242\n"
     ]
    }
   ],
   "source": [
    "with pysam.VariantFile(indexVariant) as indexVariantVCF:\n",
    "    with pysam.VariantFile('indexVariants.vcf','w',header= indexVariantVCF.header) as vcf:\n",
    "        for rec in IndexVars:\n",
    "            p=rec[0][0]\n",
    "            r=rec[0][1][0]\n",
    "            a=rec[0][1][1]\n",
    "            \n",
    "            vcf_r=vcf.new_record(contig=str(12), start=p-1,\n",
    "            alleles=(r,a))\n",
    "            vcf.write(vcf_r)\n",
    "        \n",
    "        "
   ]
  },
  {
   "cell_type": "code",
   "execution_count": 6,
   "id": "33275975",
   "metadata": {},
   "outputs": [],
   "source": [
    "MomBam = '../../00_data/IND_007_VAR_007_TRPV4/Mutter/Mosaik_M1_aligned_Hg19_7_IND_007_TRPV4.sorted.bam'\n",
    "DadBam = '../../00_data/IND_007_VAR_007_TRPV4/Vater/Mosaik_V96_aligned_Hg19_7_IND_007_TRPV4.sorted.bam'\n"
   ]
  },
  {
   "cell_type": "code",
   "execution_count": null,
   "id": "304dd0cb",
   "metadata": {},
   "outputs": [
    {
     "name": "stdout",
     "output_type": "stream",
     "text": [
      "....start looking for variant supporting aligments in ../../00_data/IND_007_VAR_007_TRPV4/Vater/Mosaik_V96_aligned_Hg19_7_IND_007_TRPV4.sorted.bam\n"
     ]
    },
    {
     "name": "stderr",
     "output_type": "stream",
     "text": [
      "  0%|                                                                                                                                                                                                                   | 0/4 [00:00<?, ?it/s]"
     ]
    },
    {
     "name": "stdout",
     "output_type": "stream",
     "text": [
      "000\n",
      "\n",
      "\n",
      "0\n"
     ]
    }
   ],
   "source": [
    "\n",
    "x = ReadVcfFile('../../00_ref/Homo_sapiens.GRCh37.dna.primary_assembly.fa'\n",
    "                ,DadBam\n",
    "                ,'indexVariants.vcf')\n",
    "VC_objectDad = VariantCounter_cls(x,processes=4)"
   ]
  },
  {
   "cell_type": "code",
   "execution_count": null,
   "id": "045947d6",
   "metadata": {},
   "outputs": [],
   "source": [
    "x = ReadVcfFile('../../00_ref/Homo_sapiens.GRCh37.dna.primary_assembly.fa'\n",
    "                ,MomBam\n",
    "                ,'../indexVariants.vcf')\n",
    "VC_objectMom = VariantCounter_cls(x,processes=1)"
   ]
  },
  {
   "cell_type": "code",
   "execution_count": 6,
   "id": "83d75f52",
   "metadata": {},
   "outputs": [
    {
     "name": "stdout",
     "output_type": "stream",
     "text": [
      "({'A': 50}, 325)\n",
      "({'A': 92}, 280)\n",
      "({'A': 19}, 282)\n",
      "({'T': 88}, 283)\n",
      "({'A': 57}, 290)\n",
      "({'G': 14}, 314)\n",
      "({'C': 128}, 333)\n",
      "({'G': 14}, 349)\n",
      "({'T': 2}, 356)\n",
      "({'A': 2}, 371)\n",
      "({'T': 17}, 287)\n",
      "({'T': 1}, 286)\n",
      "({'A': 3}, 286)\n",
      "({'G': 4}, 277)\n",
      "({'T': 77}, 275)\n",
      "({'T': 1}, 282)\n",
      "({'A': 44}, 280)\n",
      "({'C': 58}, 291)\n"
     ]
    }
   ],
   "source": [
    "\n",
    "for r in VC_objectMom.VariantsInAlignments:\n",
    "    print(r[1])"
   ]
  },
  {
   "cell_type": "code",
   "execution_count": 10,
   "id": "9e926f6d",
   "metadata": {},
   "outputs": [
    {
     "name": "stdout",
     "output_type": "stream",
     "text": [
      "({'A': 108}, 852)\n",
      "({'A': 324}, 801)\n",
      "({'A': 76}, 817)\n",
      "({'T': 264}, 820)\n",
      "({'A': 196}, 828)\n",
      "({'G': 379}, 843)\n",
      "({'C': 322}, 882)\n",
      "({'G': 34}, 898)\n",
      "({'T': 6}, 937)\n",
      "({'A': 449}, 969)\n",
      "({'T': 423}, 808)\n",
      "({'T': 373}, 811)\n",
      "({'A': 389}, 811)\n",
      "({'G': 380}, 796)\n",
      "({'T': 227}, 796)\n",
      "({'T': 347}, 800)\n",
      "({'A': 126}, 811)\n",
      "({'C': 163}, 828)\n"
     ]
    }
   ],
   "source": [
    "\n",
    "\n",
    "for r in VC_objectDad.VariantsInAlignments:\n",
    "    print(r[1])"
   ]
  },
  {
   "cell_type": "code",
   "execution_count": null,
   "id": "0f579956",
   "metadata": {},
   "outputs": [],
   "source": [
    "[({'A': 108}, 852),\n",
    " ({'A': 326}, 801),\n",
    " ({'A': 74}, 817),\n",
    " ({'T': 263}, 820),\n",
    " ({'A': 195}, 828),\n",
    " ({'G': 378}, 843),\n",
    " ({'C': 323}, 882),\n",
    " ({'G': 39}, 898),\n",
    " ({'T': 6}, 937),\n",
    " ({'A': 450}, 969),\n",
    " ({'T': 423}, 808),\n",
    " ({'T': 372}, 811),\n",
    " ({'A': 389}, 811),\n",
    " ({'G': 379}, 796),\n",
    " ({'T': 225}, 796),\n",
    " ({'T': 349}, 800),\n",
    " ({'A': 126}, 811),\n",
    " ({'C': 162}, 828)]"
   ]
  }
 ],
 "metadata": {
  "kernelspec": {
   "display_name": "Python 3 (ipykernel)",
   "language": "python",
   "name": "python3"
  },
  "language_info": {
   "codemirror_mode": {
    "name": "ipython",
    "version": 3
   },
   "file_extension": ".py",
   "mimetype": "text/x-python",
   "name": "python",
   "nbconvert_exporter": "python",
   "pygments_lexer": "ipython3",
   "version": "3.10.4"
  }
 },
 "nbformat": 4,
 "nbformat_minor": 5
}
