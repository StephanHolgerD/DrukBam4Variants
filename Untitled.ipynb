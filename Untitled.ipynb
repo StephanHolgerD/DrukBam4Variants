{
 "cells": [
  {
   "cell_type": "code",
   "execution_count": 1,
   "metadata": {},
   "outputs": [],
   "source": [
    "import pysam "
   ]
  },
  {
   "cell_type": "code",
   "execution_count": 5,
   "metadata": {},
   "outputs": [
    {
     "name": "stdout",
     "output_type": "stream",
     "text": [
      "N\n"
     ]
    }
   ],
   "source": [
    "with pysam.FastaFile('test_data/chr19_first500k.fasta') as f:\n",
    "    for r in f.fetch('19'):\n",
    "        print(r)\n",
    "        break"
   ]
  },
  {
   "cell_type": "code",
   "execution_count": 6,
   "metadata": {},
   "outputs": [
    {
     "data": {
      "text/plain": [
       "['19']"
      ]
     },
     "execution_count": 6,
     "metadata": {},
     "output_type": "execute_result"
    }
   ],
   "source": [
    "f.references"
   ]
  },
  {
   "cell_type": "code",
   "execution_count": 12,
   "metadata": {},
   "outputs": [
    {
     "data": {
      "text/plain": [
       "500000"
      ]
     },
     "execution_count": 12,
     "metadata": {},
     "output_type": "execute_result"
    }
   ],
   "source": [
    "f.get_reference_length('19')"
   ]
  },
  {
   "cell_type": "code",
   "execution_count": 10,
   "metadata": {},
   "outputs": [
    {
     "name": "stdout",
     "output_type": "stream",
     "text": [
      "19\t281381\trs6054257\tT\tG\t29\tPASS\tNS=3;DP=14;AF=0.5;DB;H2\tGT:GQ:DP:HQ\t0|0:48:1:51,51\n",
      "\n"
     ]
    }
   ],
   "source": [
    "with pysam.VariantFile('test.vcf') as f:\n",
    "    for r in f:\n",
    "        print(r)"
   ]
  },
  {
   "cell_type": "code",
   "execution_count": 11,
   "metadata": {},
   "outputs": [
    {
     "data": {
      "text/plain": [
       "['__class__',\n",
       " '__delattr__',\n",
       " '__dir__',\n",
       " '__doc__',\n",
       " '__eq__',\n",
       " '__format__',\n",
       " '__ge__',\n",
       " '__getattribute__',\n",
       " '__gt__',\n",
       " '__hash__',\n",
       " '__init__',\n",
       " '__init_subclass__',\n",
       " '__le__',\n",
       " '__lt__',\n",
       " '__ne__',\n",
       " '__new__',\n",
       " '__reduce__',\n",
       " '__reduce_ex__',\n",
       " '__repr__',\n",
       " '__setattr__',\n",
       " '__setstate__',\n",
       " '__sizeof__',\n",
       " '__str__',\n",
       " '__subclasshook__',\n",
       " 'alleles',\n",
       " 'alts',\n",
       " 'chrom',\n",
       " 'contig',\n",
       " 'copy',\n",
       " 'filter',\n",
       " 'format',\n",
       " 'header',\n",
       " 'id',\n",
       " 'info',\n",
       " 'pos',\n",
       " 'qual',\n",
       " 'ref',\n",
       " 'rid',\n",
       " 'rlen',\n",
       " 'samples',\n",
       " 'start',\n",
       " 'stop',\n",
       " 'translate']"
      ]
     },
     "execution_count": 11,
     "metadata": {},
     "output_type": "execute_result"
    }
   ],
   "source": [
    "dir(r)"
   ]
  },
  {
   "cell_type": "code",
   "execution_count": 7,
   "metadata": {},
   "outputs": [
    {
     "name": "stdout",
     "output_type": "stream",
     "text": [
      "SRR765989.26936997\t99\t18\t281270\t60\t101M\t18\t281370\t101\tAGCCCAGGGTTCCTGGAGCCCGTCCAGAGCCCTCAGTGCCTAACCAGGGCTGGAGGGACCACCTGGGTGGGCCTCAGCTGGACTCACAGCAGCTCCCTGCC\tarray('B', [17, 40, 45, 41, 41, 37, 34, 27, 32, 35, 36, 40, 42, 37, 40, 40, 36, 42, 42, 42, 42, 31, 37, 42, 41, 37, 40, 38, 41, 42, 43, 41, 41, 38, 39, 35, 38, 41, 41, 42, 40, 36, 41, 44, 41, 39, 41, 36, 38, 39, 39, 43, 38, 39, 42, 42, 29, 35, 41, 44, 39, 39, 44, 42, 47, 39, 43, 43, 42, 39, 39, 46, 45, 44, 43, 44, 43, 47, 47, 48, 37, 33, 40, 38, 41, 44, 46, 38, 41, 44, 42, 38, 41, 40, 34, 39, 36, 38, 31, 34, 32])\t[('X0', 1), ('X1', 0), ('MD', '101'), ('RG', 'SRR765989'), ('AM', 37), ('NM', 0), ('SM', 37), ('MQ', 60), ('XT', 'U'), ('BQ', '@@@@@@@@@@@@@@@@@@@@@@@@@@@@@@@@@@@@@@@@@@@@@@@@@@@@@@@@@@@@@@@@@@@@@@@@@@@@@@@@@@@@@@@@@@@@@@@@@@@@@')]\n"
     ]
    }
   ],
   "source": [
    "with pysam.AlignmentFile('test_data/test_small.bam') as f:\n",
    "    for r in f:\n",
    "        print(r)\n",
    "        break"
   ]
  },
  {
   "cell_type": "code",
   "execution_count": 4,
   "metadata": {},
   "outputs": [
    {
     "data": {
      "text/plain": [
       "[1, 2, 3, 4, 5, 6, 7, 8, 9]"
      ]
     },
     "execution_count": 4,
     "metadata": {},
     "output_type": "execute_result"
    }
   ],
   "source": [
    "list(range(1,10))"
   ]
  },
  {
   "cell_type": "code",
   "execution_count": null,
   "metadata": {},
   "outputs": [],
   "source": [
    "r.is"
   ]
  },
  {
   "cell_type": "code",
   "execution_count": 8,
   "metadata": {},
   "outputs": [
    {
     "data": {
      "text/plain": [
       "'19'"
      ]
     },
     "execution_count": 8,
     "metadata": {},
     "output_type": "execute_result"
    }
   ],
   "source": [
    "r.reference_start\n",
    "r.reference_end\n",
    "r.reference_name"
   ]
  },
  {
   "cell_type": "code",
   "execution_count": 17,
   "metadata": {},
   "outputs": [
    {
     "data": {
      "text/plain": [
       "['__class__',\n",
       " '__copy__',\n",
       " '__deepcopy__',\n",
       " '__delattr__',\n",
       " '__dir__',\n",
       " '__doc__',\n",
       " '__eq__',\n",
       " '__format__',\n",
       " '__ge__',\n",
       " '__getattribute__',\n",
       " '__gt__',\n",
       " '__hash__',\n",
       " '__init__',\n",
       " '__init_subclass__',\n",
       " '__le__',\n",
       " '__lt__',\n",
       " '__ne__',\n",
       " '__new__',\n",
       " '__pyx_vtable__',\n",
       " '__reduce__',\n",
       " '__reduce_ex__',\n",
       " '__repr__',\n",
       " '__setattr__',\n",
       " '__setstate__',\n",
       " '__sizeof__',\n",
       " '__str__',\n",
       " '__subclasshook__',\n",
       " 'aend',\n",
       " 'alen',\n",
       " 'aligned_pairs',\n",
       " 'bin',\n",
       " 'blocks',\n",
       " 'cigar',\n",
       " 'cigarstring',\n",
       " 'cigartuples',\n",
       " 'compare',\n",
       " 'flag',\n",
       " 'from_dict',\n",
       " 'fromstring',\n",
       " 'get_aligned_pairs',\n",
       " 'get_blocks',\n",
       " 'get_cigar_stats',\n",
       " 'get_forward_qualities',\n",
       " 'get_forward_sequence',\n",
       " 'get_overlap',\n",
       " 'get_reference_positions',\n",
       " 'get_reference_sequence',\n",
       " 'get_tag',\n",
       " 'get_tags',\n",
       " 'has_tag',\n",
       " 'header',\n",
       " 'infer_query_length',\n",
       " 'infer_read_length',\n",
       " 'inferred_length',\n",
       " 'is_duplicate',\n",
       " 'is_paired',\n",
       " 'is_proper_pair',\n",
       " 'is_qcfail',\n",
       " 'is_read1',\n",
       " 'is_read2',\n",
       " 'is_reverse',\n",
       " 'is_secondary',\n",
       " 'is_supplementary',\n",
       " 'is_unmapped',\n",
       " 'isize',\n",
       " 'mapping_quality',\n",
       " 'mapq',\n",
       " 'mate_is_reverse',\n",
       " 'mate_is_unmapped',\n",
       " 'mpos',\n",
       " 'mrnm',\n",
       " 'next_reference_id',\n",
       " 'next_reference_name',\n",
       " 'next_reference_start',\n",
       " 'opt',\n",
       " 'overlap',\n",
       " 'pnext',\n",
       " 'pos',\n",
       " 'positions',\n",
       " 'qend',\n",
       " 'qlen',\n",
       " 'qname',\n",
       " 'qqual',\n",
       " 'qstart',\n",
       " 'qual',\n",
       " 'query',\n",
       " 'query_alignment_end',\n",
       " 'query_alignment_length',\n",
       " 'query_alignment_qualities',\n",
       " 'query_alignment_sequence',\n",
       " 'query_alignment_start',\n",
       " 'query_length',\n",
       " 'query_name',\n",
       " 'query_qualities',\n",
       " 'query_sequence',\n",
       " 'reference_end',\n",
       " 'reference_id',\n",
       " 'reference_length',\n",
       " 'reference_name',\n",
       " 'reference_start',\n",
       " 'rlen',\n",
       " 'rname',\n",
       " 'rnext',\n",
       " 'seq',\n",
       " 'setTag',\n",
       " 'set_tag',\n",
       " 'set_tags',\n",
       " 'tags',\n",
       " 'template_length',\n",
       " 'tid',\n",
       " 'tlen',\n",
       " 'to_dict',\n",
       " 'to_string',\n",
       " 'tostring']"
      ]
     },
     "execution_count": 17,
     "metadata": {},
     "output_type": "execute_result"
    }
   ],
   "source": [
    "dir(r)"
   ]
  },
  {
   "cell_type": "code",
   "execution_count": null,
   "metadata": {},
   "outputs": [],
   "source": []
  }
 ],
 "metadata": {
  "kernelspec": {
   "display_name": "Python 3 (ipykernel)",
   "language": "python",
   "name": "python3"
  },
  "language_info": {
   "codemirror_mode": {
    "name": "ipython",
    "version": 3
   },
   "file_extension": ".py",
   "mimetype": "text/x-python",
   "name": "python",
   "nbconvert_exporter": "python",
   "pygments_lexer": "ipython3",
   "version": "3.9.1"
  }
 },
 "nbformat": 4,
 "nbformat_minor": 4
}
