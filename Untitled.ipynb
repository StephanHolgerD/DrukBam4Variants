{
 "cells": [
  {
   "cell_type": "code",
   "execution_count": 1,
   "id": "e48912b8",
   "metadata": {},
   "outputs": [],
   "source": [
    "from variantfinder.ReadFiles.VcfReader import ReadVcfFile\n",
    "from variantfinder.ParseAlignments.VariantCounter import VariantCounter_cls\n",
    "from collections import Counter\n",
    "import pysam"
   ]
  },
  {
   "cell_type": "code",
   "execution_count": 2,
   "id": "b252c75a",
   "metadata": {},
   "outputs": [],
   "source": [
    "indexBam = '../../00_data/IND_011_VAR_011_SCN8A/Index/Mosaik_K96_aligned_Hg19_11_IND_011_SCN8A.sorted.bam'\n",
    "indexVariant = '../testIND011.vcf'"
   ]
  },
  {
   "cell_type": "code",
   "execution_count": 3,
   "id": "489a65b0",
   "metadata": {},
   "outputs": [
    {
     "name": "stdout",
     "output_type": "stream",
     "text": [
      "....start looking for variant supporting aligments in ../../00_data/IND_011_VAR_011_SCN8A/Index/Mosaik_K96_aligned_Hg19_11_IND_011_SCN8A.sorted.bam\n"
     ]
    },
    {
     "name": "stderr",
     "output_type": "stream",
     "text": [
      "/home/stephano/miniconda3/envs/Jupyter/lib/python3.10/site-packages/numpy/core/fromnumeric.py:43: VisibleDeprecationWarning: Creating an ndarray from ragged nested sequences (which is a list-or-tuple of lists-or-tuples-or ndarrays with different lengths or shapes) is deprecated. If you meant to do this, you must specify 'dtype=object' when creating the ndarray.\n",
      "  result = getattr(asarray(obj), method)(*args, **kwds)\n",
      "100%|███████████████████████████████████████████████████████████████████████████████████████████████████████████████████████████████████████████████████████████████████████████████████████████████████████████| 1/1 [00:02<00:00,  2.99s/it]\n"
     ]
    }
   ],
   "source": [
    "x = ReadVcfFile('../../00_ref/Homo_sapiens.GRCh37.dna.primary_assembly.fa'\n",
    "                ,indexBam\n",
    "                ,indexVariant)\n",
    "VC_object = VariantCounter_cls(x)"
   ]
  },
  {
   "cell_type": "code",
   "execution_count": 4,
   "id": "14160dbd",
   "metadata": {},
   "outputs": [],
   "source": [
    "ReadVariantDct={}\n",
    "VarReads = [x[0] for x in list(list(VC_object.VariantsInAlignments[0][2].values())[0])]\n",
    "for read in  VC_object.VariantsInAlignments[0][-1]:\n",
    "    \n",
    "    if read[-2] in VarReads:\n",
    "        donePositions = set()\n",
    "        doneInsertions = set()\n",
    "        \n",
    "        delInsCounter=0\n",
    "        InsertionD = {x[0][0]:x for x in read[5]}\n",
    "        variants = {}\n",
    "        for n,(RefPos,RefNuc,ReadNuc) in enumerate(zip(read[0],read[1],read[2])):\n",
    "            if n in donePositions:\n",
    "                continue\n",
    "            \n",
    "            onePosBack = n-1\n",
    "            \n",
    "            InsP=n+delInsCounter\n",
    "            if InsP in InsertionD and InsP not in doneInsertions:\n",
    "                l = len(InsertionD[InsP][0])\n",
    "                delInsCounter=delInsCounter+l\n",
    "                doneInsertions.add(InsP)\n",
    "                #RefPos = read[0][InsP]\n",
    "                #RefNuc = read[1][InsP]\n",
    "                ReadNuc = RefNuc + InsertionD[InsP][1]\n",
    "\n",
    "                variants[RefPos]=(RefNuc,ReadNuc)\n",
    "                \n",
    "            elif RefNuc!=ReadNuc:\n",
    "                if ReadNuc=='-':\n",
    "                    delInsCounter=delInsCounter-1\n",
    "                    RefNucNew=read[1][onePosBack]+RefNuc\n",
    "                    for NextP in range(1,1000):\n",
    "                        CheckPosition=n+NextP\n",
    "                        ChecKPositionReadNuc = read[2][CheckPosition]\n",
    "                        ChecKPositionRefNuc = read[1][CheckPosition]\n",
    "                        if ChecKPositionReadNuc=='-':\n",
    "                            delInsCounter=delInsCounter-1\n",
    "                            donePositions.add(CheckPosition)\n",
    "                            RefNucNew=RefNucNew+ChecKPositionRefNuc\n",
    "                        else:\n",
    "                            break\n",
    "                            \n",
    "                    ReadNuc = RefNucNew[0]\n",
    "                    RefNuc = RefNucNew\n",
    "                    RefPos = read[0][onePosBack]\n",
    "                RefPos = RefPos+1\n",
    "                variants[RefPos]=(RefNuc,ReadNuc)\n",
    "        ReadVariantDct[read[-2]]=variants\n",
    "            \n",
    "\n",
    "IndexVars = [(k,v) for k,v in Counter([(k,v) for liste in list(ReadVariantDct.values()) for k,v in liste.items()]).items() if v >2]"
   ]
  },
  {
   "cell_type": "code",
   "execution_count": 5,
   "id": "6ca1bfe1",
   "metadata": {},
   "outputs": [
    {
     "name": "stderr",
     "output_type": "stream",
     "text": [
      "[W::bcf_update_info] INFO/END=0 is smaller than POS at 12:52196345\n"
     ]
    }
   ],
   "source": [
    "with pysam.VariantFile(indexVariant) as indexVariantVCF:\n",
    "    with pysam.VariantFile('indexVariants.vcf','w',header= indexVariantVCF.header) as vcf:\n",
    "        for rec in IndexVars:\n",
    "            p=rec[0][0]\n",
    "            r=rec[0][1][0]\n",
    "            a=rec[0][1][1]\n",
    "            \n",
    "            vcf_r=vcf.new_record(contig=str(12), start=p-1,\n",
    "            alleles=(r,a))\n",
    "            vcf.write(vcf_r)\n",
    "        \n",
    "        "
   ]
  },
  {
   "cell_type": "code",
   "execution_count": 6,
   "id": "33275975",
   "metadata": {},
   "outputs": [],
   "source": [
    "MomBam = '../../00_data/IND_011_VAR_011_SCN8A/Mutter/Mosaik_M1_aligned_Hg19_11_IND_011_SCN8A.sorted.bam'\n",
    "DadBam = '../../00_data/IND_011_VAR_011_SCN8A/Vater/Mosaik_V96_aligned_Hg19_11_IND_011_SCN8A.sorted.bam'\n"
   ]
  },
  {
   "cell_type": "code",
   "execution_count": 7,
   "id": "933111be",
   "metadata": {},
   "outputs": [
    {
     "name": "stdout",
     "output_type": "stream",
     "text": [
      "....start looking for variant supporting aligments in ../../00_data/IND_011_VAR_011_SCN8A/Vater/Mosaik_V96_aligned_Hg19_11_IND_011_SCN8A.sorted.bam\n"
     ]
    },
    {
     "name": "stderr",
     "output_type": "stream",
     "text": [
      "100%|█████████████████████████████████████████████████████████████████████████████████████████████████████████████████████████████████████████████████████████████████████████████████████████████████████████| 14/14 [01:00<00:00,  4.35s/it]\n",
      "100%|█████████████████████████████████████████████████████████████████████████████████████████████████████████████████████████████████████████████████████████████████████████████████████████████████████████| 13/13 [01:09<00:00,  5.33s/it]\n",
      "100%|█████████████████████████████████████████████████████████████████████████████████████████████████████████████████████████████████████████████████████████████████████████████████████████████████████████| 13/13 [01:12<00:00,  5.58s/it]\n",
      "100%|█████████████████████████████████████████████████████████████████████████████████████████████████████████████████████████████████████████████████████████████████████████████████████████████████████████| 14/14 [01:13<00:00,  5.28s/it]\n"
     ]
    }
   ],
   "source": [
    "\n",
    "x = ReadVcfFile('../../00_ref/Homo_sapiens.GRCh37.dna.primary_assembly.fa'\n",
    "                ,DadBam\n",
    "                ,'indexVariants.vcf')\n",
    "VC_objectDad = VariantCounter_cls(x,processes=4)"
   ]
  },
  {
   "cell_type": "code",
   "execution_count": 8,
   "id": "045947d6",
   "metadata": {},
   "outputs": [
    {
     "name": "stdout",
     "output_type": "stream",
     "text": [
      "....start looking for variant supporting aligments in ../../00_data/IND_011_VAR_011_SCN8A/Mutter/Mosaik_M1_aligned_Hg19_11_IND_011_SCN8A.sorted.bam\n"
     ]
    },
    {
     "name": "stderr",
     "output_type": "stream",
     "text": [
      "100%|█████████████████████████████████████████████████████████████████████████████████████████████████████████████████████████████████████████████████████████████████████████████████████████████████████████| 54/54 [00:31<00:00,  1.73it/s]\n"
     ]
    }
   ],
   "source": [
    "x = ReadVcfFile('../../00_ref/Homo_sapiens.GRCh37.dna.primary_assembly.fa'\n",
    "                ,MomBam\n",
    "                ,'indexVariants.vcf')\n",
    "VC_objectMom = VariantCounter_cls(x,processes=1)"
   ]
  },
  {
   "cell_type": "code",
   "execution_count": 9,
   "id": "a8e88e63",
   "metadata": {},
   "outputs": [
    {
     "name": "stdout",
     "output_type": "stream",
     "text": [
      "12-52197060-G ({'A': 50}, 107)\n",
      "12-52197876-TC ({'T': 24}, 112)\n",
      "12-52198112-T ({'A': 14}, 112)\n",
      "12-52198678-A ({'G': 38}, 108)\n",
      "12-52198888-GA ({'G': 27}, 105)\n",
      "12-52199104-C ({'T': 39}, 108)\n",
      "12-52199192-AC ({'A': 26}, 106)\n",
      "12-52200028-C ({'A': 46}, 111)\n",
      "12-52201221-CA ({'C': 33}, 112)\n",
      "12-52201517-GC ({'G': 13}, 111)\n",
      "12-52202297-TA ({'T': 17}, 114)\n",
      "12-52202758-C ({'T': 48}, 119)\n",
      "12-52196925-AG ({'A': 15}, 106)\n",
      "12-52199142-CG ({'C': 20}, 108)\n",
      "12-52201557-AT ({'A': 18}, 111)\n",
      "12-52202923-TG ({'T': 36}, 120)\n",
      "12-52204038-TAAA ({'T': 24}, 146)\n",
      "12-52204246-T ({'C': 68}, 153)\n",
      "12-52204407-CA ({'C': 23}, 161)\n",
      "12-52196713-CA ({'C': 13}, 108)\n",
      "12-52199999-TAA ({'T': 24}, 110)\n",
      "12-52202646-TC ({'T': 16}, 115)\n",
      "12-52198424-ATT ({'A': 27}, 110)\n",
      "12-52201069-GA ({'G': 34}, 112)\n",
      "12-52201406-TC ({'T': 17}, 110)\n",
      "12-52204038-TAA ({'T': 23}, 146)\n",
      "12-52200812-CT ({'C': 12}, 110)\n",
      "12-52200990-G ({'A': 18}, 109)\n",
      "12-52201184-CA ({'C': 13}, 112)\n",
      "12-52202575-AG ({'A': 13}, 115)\n",
      "12-52202982-AG ({'A': 22}, 121)\n",
      "12-52203323-AT ({'A': 16}, 127)\n"
     ]
    }
   ],
   "source": [
    "\n",
    "mV=set()\n",
    "for r in VC_objectMom.VariantsInAlignments:\n",
    "    for k,v in r[1][0].items():\n",
    "        if v/r[1][1]>.1:\n",
    "            print(r[0],r[1])\n",
    "            mV.add(r[0])"
   ]
  },
  {
   "cell_type": "code",
   "execution_count": 10,
   "id": "9e926f6d",
   "metadata": {},
   "outputs": [
    {
     "name": "stdout",
     "output_type": "stream",
     "text": [
      "12-52197060-G ({'A': 99}, 200)\n",
      "12-52197876-TC ({'T': 43}, 200)\n",
      "12-52198112-T ({'A': 56}, 200)\n",
      "12-52198466-G ({'T': 92}, 200)\n",
      "12-52198678-A ({'G': 83}, 200)\n",
      "12-52198888-GA ({'G': 47}, 200)\n",
      "12-52199104-C ({'T': 82}, 200)\n",
      "12-52199192-AC ({'A': 56}, 200)\n",
      "12-52199570-C ({'G': 96}, 200)\n",
      "12-52200028-C ({'A': 188}, 200)\n",
      "12-52201221-CA ({'C': 63}, 200)\n",
      "12-52201517-GC ({'G': 22}, 200)\n",
      "12-52202297-TA ({'T': 29}, 200)\n",
      "12-52202758-C ({'T': 89}, 200)\n",
      "12-52196925-AG ({'A': 27}, 200)\n",
      "12-52198323-G ({'C': 94}, 200)\n",
      "12-52199142-CG ({'C': 52}, 200)\n",
      "12-52201557-AT ({'A': 44}, 200)\n",
      "12-52202923-TG ({'T': 50}, 200)\n",
      "12-52204038-TAAA ({'T': 28}, 200)\n",
      "12-52204246-T ({'C': 154}, 200)\n",
      "12-52204407-CA ({'C': 33}, 200)\n",
      "12-52199999-TAA ({'T': 43}, 200)\n",
      "12-52202646-TC ({'T': 25}, 200)\n",
      "12-52203591-ATT ({'A': 28}, 200)\n",
      "12-52198424-ATT ({'A': 55}, 200)\n",
      "12-52201069-GA ({'G': 54}, 200)\n",
      "12-52201406-TC ({'T': 26}, 200)\n",
      "12-52203241-G ({'A': 26}, 200)\n",
      "12-52204038-TAA ({'T': 24}, 200)\n",
      "12-52200661-C ({'T': 32}, 200)\n",
      "12-52200812-CT ({'C': 58}, 200)\n",
      "12-52200990-G ({'A': 37}, 200)\n",
      "12-52201184-CA ({'C': 32}, 200)\n",
      "12-52202575-AG ({'A': 30}, 200)\n",
      "12-52202860-TC ({'T': 23}, 200)\n",
      "12-52202982-AG ({'A': 42}, 200)\n",
      "12-52203323-AT ({'A': 38}, 200)\n",
      "12-52203585-AT ({'A': 26}, 200)\n"
     ]
    }
   ],
   "source": [
    "\n",
    "dV=set()\n",
    "for r in VC_objectDad.VariantsInAlignments:\n",
    "    for k,v in r[1][0].items():\n",
    "        if v/r[1][1]>.1:\n",
    "            print(r[0],r[1])\n",
    "            dV.add(r[0])\n"
   ]
  },
  {
   "cell_type": "code",
   "execution_count": 11,
   "id": "9623a682",
   "metadata": {},
   "outputs": [
    {
     "name": "stdout",
     "output_type": "stream",
     "text": [
      "{'12-52196713-CA'}\n",
      "{'12-52203591-ATT', '12-52200661-C', '12-52203241-G', '12-52199570-C', '12-52203585-AT', '12-52198323-G', '12-52202860-TC', '12-52198466-G'}\n"
     ]
    }
   ],
   "source": [
    "#resultInd7\n",
    "print(mV.difference(dV))\n",
    "print(dV.difference(mV))"
   ]
  },
  {
   "cell_type": "code",
   "execution_count": 24,
   "id": "a3c6afec",
   "metadata": {},
   "outputs": [
    {
     "name": "stdout",
     "output_type": "stream",
     "text": [
      "set()\n",
      "{'12-110225869-AC', '12-110226379-G', '12-110220752-A', '12-110220090-G', '12-110219998-C', '12-110220109-G', '12-110221668-A', '12-110224174-A'}\n"
     ]
    }
   ],
   "source": [
    "#resultInd7\n",
    "print(mV.difference(dV))\n",
    "print(dV.difference(mV))"
   ]
  },
  {
   "cell_type": "code",
   "execution_count": null,
   "id": "5b6a01ab",
   "metadata": {},
   "outputs": [],
   "source": []
  }
 ],
 "metadata": {
  "kernelspec": {
   "display_name": "Python 3 (ipykernel)",
   "language": "python",
   "name": "python3"
  },
  "language_info": {
   "codemirror_mode": {
    "name": "ipython",
    "version": 3
   },
   "file_extension": ".py",
   "mimetype": "text/x-python",
   "name": "python",
   "nbconvert_exporter": "python",
   "pygments_lexer": "ipython3",
   "version": "3.10.4"
  }
 },
 "nbformat": 4,
 "nbformat_minor": 5
}
